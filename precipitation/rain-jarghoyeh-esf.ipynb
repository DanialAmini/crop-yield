{
 "cells": [
  {
   "cell_type": "markdown",
   "id": "d550e3c5",
   "metadata": {},
   "source": [
    "# Rain Jarghoyeh Esf"
   ]
  },
  {
   "cell_type": "code",
   "execution_count": 308,
   "id": "89728593",
   "metadata": {},
   "outputs": [],
   "source": [
    "%reset -f\n",
    "import numpy as np\n",
    "import pandas as pd\n",
    "import matplotlib.pyplot as plt\n",
    "from IPython.display import display, HTML, Markdown, Math\n",
    "from scipy.special import erf\n",
    "from scipy.optimize import minimize"
   ]
  },
  {
   "cell_type": "code",
   "execution_count": null,
   "id": "33505f42",
   "metadata": {},
   "outputs": [],
   "source": []
  },
  {
   "cell_type": "code",
   "execution_count": null,
   "id": "69fcc985",
   "metadata": {},
   "outputs": [],
   "source": []
  },
  {
   "cell_type": "markdown",
   "id": "d2c2e346",
   "metadata": {},
   "source": [
    "# Raw data from Ministry of Energy of Iran"
   ]
  },
  {
   "cell_type": "code",
   "execution_count": 309,
   "id": "104951d4",
   "metadata": {},
   "outputs": [
    {
     "name": "stdout",
     "output_type": "stream",
     "text": [
      "Rain for Jarghoyeh (Mohammad Abad) station, east of Esfahan Province\n",
      "Latitude  32.322105° N, Longitude  52.084177° E\n",
      "Source: Iran Water Resources Management Company wrm.ir, Ministry of Energy of Iran\n"
     ]
    },
    {
     "data": {
      "text/html": [
       "<div>\n",
       "<style scoped>\n",
       "    .dataframe tbody tr th:only-of-type {\n",
       "        vertical-align: middle;\n",
       "    }\n",
       "\n",
       "    .dataframe tbody tr th {\n",
       "        vertical-align: top;\n",
       "    }\n",
       "\n",
       "    .dataframe thead th {\n",
       "        text-align: right;\n",
       "    }\n",
       "</style>\n",
       "<table border=\"1\" class=\"dataframe\">\n",
       "  <thead>\n",
       "    <tr style=\"text-align: right;\">\n",
       "      <th></th>\n",
       "      <th>P_24h (mm)</th>\n",
       "    </tr>\n",
       "  </thead>\n",
       "  <tbody>\n",
       "    <tr>\n",
       "      <th>1372.0</th>\n",
       "      <td>10.0</td>\n",
       "    </tr>\n",
       "    <tr>\n",
       "      <th>1373.0</th>\n",
       "      <td>33.5</td>\n",
       "    </tr>\n",
       "    <tr>\n",
       "      <th>1374.0</th>\n",
       "      <td>22.0</td>\n",
       "    </tr>\n",
       "    <tr>\n",
       "      <th>1375.0</th>\n",
       "      <td>9.0</td>\n",
       "    </tr>\n",
       "    <tr>\n",
       "      <th>1376.0</th>\n",
       "      <td>21.0</td>\n",
       "    </tr>\n",
       "    <tr>\n",
       "      <th>1377.0</th>\n",
       "      <td>15.0</td>\n",
       "    </tr>\n",
       "    <tr>\n",
       "      <th>1378.0</th>\n",
       "      <td>20.0</td>\n",
       "    </tr>\n",
       "    <tr>\n",
       "      <th>1379.0</th>\n",
       "      <td>16.5</td>\n",
       "    </tr>\n",
       "    <tr>\n",
       "      <th>1380.0</th>\n",
       "      <td>14.5</td>\n",
       "    </tr>\n",
       "    <tr>\n",
       "      <th>1381.0</th>\n",
       "      <td>12.0</td>\n",
       "    </tr>\n",
       "    <tr>\n",
       "      <th>1382.0</th>\n",
       "      <td>11.5</td>\n",
       "    </tr>\n",
       "    <tr>\n",
       "      <th>1383.0</th>\n",
       "      <td>13.0</td>\n",
       "    </tr>\n",
       "    <tr>\n",
       "      <th>1384.0</th>\n",
       "      <td>19.5</td>\n",
       "    </tr>\n",
       "    <tr>\n",
       "      <th>1385.0</th>\n",
       "      <td>32.0</td>\n",
       "    </tr>\n",
       "    <tr>\n",
       "      <th>1386.0</th>\n",
       "      <td>13.0</td>\n",
       "    </tr>\n",
       "    <tr>\n",
       "      <th>1387.0</th>\n",
       "      <td>22.0</td>\n",
       "    </tr>\n",
       "    <tr>\n",
       "      <th>1388.0</th>\n",
       "      <td>34.0</td>\n",
       "    </tr>\n",
       "    <tr>\n",
       "      <th>1389.0</th>\n",
       "      <td>19.0</td>\n",
       "    </tr>\n",
       "    <tr>\n",
       "      <th>1390.0</th>\n",
       "      <td>28.5</td>\n",
       "    </tr>\n",
       "    <tr>\n",
       "      <th>1391.0</th>\n",
       "      <td>28.0</td>\n",
       "    </tr>\n",
       "    <tr>\n",
       "      <th>1392.0</th>\n",
       "      <td>24.0</td>\n",
       "    </tr>\n",
       "    <tr>\n",
       "      <th>1393.0</th>\n",
       "      <td>13.5</td>\n",
       "    </tr>\n",
       "    <tr>\n",
       "      <th>1394.0</th>\n",
       "      <td>10.0</td>\n",
       "    </tr>\n",
       "    <tr>\n",
       "      <th>1395.0</th>\n",
       "      <td>28.5</td>\n",
       "    </tr>\n",
       "    <tr>\n",
       "      <th>1396.0</th>\n",
       "      <td>25.0</td>\n",
       "    </tr>\n",
       "  </tbody>\n",
       "</table>\n",
       "</div>"
      ],
      "text/plain": [
       "        P_24h (mm)\n",
       "1372.0        10.0\n",
       "1373.0        33.5\n",
       "1374.0        22.0\n",
       "1375.0         9.0\n",
       "1376.0        21.0\n",
       "1377.0        15.0\n",
       "1378.0        20.0\n",
       "1379.0        16.5\n",
       "1380.0        14.5\n",
       "1381.0        12.0\n",
       "1382.0        11.5\n",
       "1383.0        13.0\n",
       "1384.0        19.5\n",
       "1385.0        32.0\n",
       "1386.0        13.0\n",
       "1387.0        22.0\n",
       "1388.0        34.0\n",
       "1389.0        19.0\n",
       "1390.0        28.5\n",
       "1391.0        28.0\n",
       "1392.0        24.0\n",
       "1393.0        13.5\n",
       "1394.0        10.0\n",
       "1395.0        28.5\n",
       "1396.0        25.0"
      ]
     },
     "metadata": {},
     "output_type": "display_data"
    },
    {
     "data": {
      "image/png": "[encoded data removed]",
      "text/plain": [
       "<Figure size 432x288 with 1 Axes>"
      ]
     },
     "metadata": {
      "needs_background": "light"
     },
     "output_type": "display_data"
    }
   ],
   "source": [
    "print('Rain for Jarghoyeh (Mohammad Abad) station, east of Esfahan Province')\n",
    "print('Latitude  32.322105° N, Longitude  52.084177° E')\n",
    "print('Source: Iran Water Resources Management Company wrm.ir, Ministry of Energy of Iran')\n",
    "\n",
    "\n",
    "rain=np.array([[1372,10],[1373,33.5],[1374,22],[1375,9],[1376,21],[1377,15],\n",
    "[1378,20],[1379,16.5],[1380,14.5],[1381,12],[1382,11.5],[1383,13],\n",
    "[1384,19.5],[1385,32],[1386,13],[1387,22],[1388,34],[1389,19],\n",
    "[1390,28.5],[1391,28],[1392,24],[1393,13.5],[1394,10],[1395,28.5],[1396,25]])\n",
    "\n",
    "year=rain[:,0]\n",
    "rain24max=rain[:,1]\n",
    "\n",
    "df=pd.DataFrame(rain24max,columns=['P_24h (mm)'],index=year)\n",
    "df.style.format(\"{.2g}\")\n",
    "display(df)\n",
    "\n",
    "plt.figure()\n",
    "plt.bar(year,rain24max)\n",
    "plt.xlabel('Year (Persian calendar)')\n",
    "plt.ylabel('24 hour rain (mm)')\n",
    "plt.title('Figure. max annual daily rain for Jarghoyeh Station, Esfahan Province')\n",
    "plt.show()"
   ]
  },
  {
   "cell_type": "code",
   "execution_count": null,
   "id": "810cd9dd",
   "metadata": {},
   "outputs": [],
   "source": []
  },
  {
   "cell_type": "code",
   "execution_count": null,
   "id": "13ebb3b7",
   "metadata": {},
   "outputs": [],
   "source": []
  },
  {
   "cell_type": "markdown",
   "id": "5fce84e3",
   "metadata": {},
   "source": [
    "# Analyzing return period"
   ]
  },
  {
   "cell_type": "code",
   "execution_count": 310,
   "id": "446fda6d",
   "metadata": {},
   "outputs": [
    {
     "name": "stdout",
     "output_type": "stream",
     "text": [
      "source: Return Period, Wikipedia\n"
     ]
    },
    {
     "data": {
      "text/html": [
       "<a href=\"https://en.wikipedia.org/wiki/Return_period\">https://en.wikipedia.org/wiki/Return_period</a>"
      ],
      "text/plain": [
       "<IPython.core.display.HTML object>"
      ]
     },
     "metadata": {},
     "output_type": "display_data"
    },
    {
     "name": "stdout",
     "output_type": "stream",
     "text": [
      "the 24 hour rain is sorted in descending order\n",
      "N= 25 =number of years on record\n"
     ]
    },
    {
     "data": {
      "image/png": "[encoded data removed]",
      "text/plain": [
       "<Figure size 432x288 with 1 Axes>"
      ]
     },
     "metadata": {
      "needs_background": "light"
     },
     "output_type": "display_data"
    },
    {
     "data": {
      "image/png": "[encoded data removed]",
      "text/plain": [
       "<Figure size 432x288 with 1 Axes>"
      ]
     },
     "metadata": {
      "needs_background": "light"
     },
     "output_type": "display_data"
    }
   ],
   "source": [
    "print('source: Return Period, Wikipedia')\n",
    "display(HTML(\"\"\"<a href=\"https://en.wikipedia.org/wiki/Return_period\">https://en.wikipedia.org/wiki/Return_period</a>\"\"\"))\n",
    "\n",
    "print('the 24 hour rain is sorted in descending order')\n",
    "rain24sort=-np.sort(-rain24max)\n",
    "N=len(rain24sort)\n",
    "\n",
    "\n",
    "\n",
    "print('N=',N,'=number of years on record')\n",
    "recurence_interval=np.arange(1,N+1)\n",
    "recurence_interval=(N+1)/recurence_interval\n",
    "\n",
    "plt.figure()\n",
    "plt.bar(np.arange(N+1,1,-1),rain24sort)\n",
    "plt.xlabel('year')\n",
    "plt.ylabel('24 hour rain')\n",
    "plt.show()\n",
    "\n",
    "plt.figure()\n",
    "plt.plot(recurence_interval,rain24sort)\n",
    "plt.xlabel('year')\n",
    "plt.ylabel('24 hour rain')\n",
    "plt.title('return period graph')\n",
    "plt.show()"
   ]
  },
  {
   "cell_type": "code",
   "execution_count": null,
   "id": "45835dae",
   "metadata": {},
   "outputs": [],
   "source": []
  },
  {
   "cell_type": "code",
   "execution_count": null,
   "id": "9deec83d",
   "metadata": {},
   "outputs": [],
   "source": []
  },
  {
   "cell_type": "markdown",
   "id": "404727c6",
   "metadata": {},
   "source": [
    "# Fitting distribution to data"
   ]
  },
  {
   "cell_type": "code",
   "execution_count": 311,
   "id": "0c144a46",
   "metadata": {
    "code_folding": []
   },
   "outputs": [],
   "source": [
    "x=recurence_interval\n",
    "y=rain24sort\n",
    "\n",
    "def func_cdf_lognormal(x,b):\n",
    "    mu,sigma,a=b[0],b[1],b[2]\n",
    "    return a*0.5*(1+erf((np.log(x)-mu)/(sigma*np.sqrt(2))))\n",
    "\n",
    "func_cdf_lognormal_anonym = lambda b: func_cdf_lognormal(x,b)\n",
    "\n",
    "def func_mse(y,b):\n",
    "    yhat=func_cdf_lognormal_anonym(b)\n",
    "    return 0.5*np.mean((y-yhat)*(y-yhat))\n",
    "\n",
    "func_mse_anonym=lambda b:func_mse(y,b)"
   ]
  },
  {
   "cell_type": "code",
   "execution_count": 312,
   "id": "2c587d20",
   "metadata": {},
   "outputs": [
    {
     "data": {
      "image/png": "[encoded data removed]",
      "text/plain": [
       "<Figure size 432x288 with 1 Axes>"
      ]
     },
     "metadata": {
      "needs_background": "light"
     },
     "output_type": "display_data"
    },
    {
     "data": {
      "text/html": [
       "<div>\n",
       "<style scoped>\n",
       "    .dataframe tbody tr th:only-of-type {\n",
       "        vertical-align: middle;\n",
       "    }\n",
       "\n",
       "    .dataframe tbody tr th {\n",
       "        vertical-align: top;\n",
       "    }\n",
       "\n",
       "    .dataframe thead th {\n",
       "        text-align: right;\n",
       "    }\n",
       "</style>\n",
       "<table border=\"1\" class=\"dataframe\">\n",
       "  <thead>\n",
       "    <tr style=\"text-align: right;\">\n",
       "      <th></th>\n",
       "      <th>return period</th>\n",
       "      <th>24 hour rain [mm]</th>\n",
       "    </tr>\n",
       "  </thead>\n",
       "  <tbody>\n",
       "    <tr>\n",
       "      <th>0</th>\n",
       "      <td>2.0</td>\n",
       "      <td>18.262477</td>\n",
       "    </tr>\n",
       "    <tr>\n",
       "      <th>1</th>\n",
       "      <td>5.0</td>\n",
       "      <td>28.504709</td>\n",
       "    </tr>\n",
       "    <tr>\n",
       "      <th>2</th>\n",
       "      <td>10.0</td>\n",
       "      <td>32.234989</td>\n",
       "    </tr>\n",
       "    <tr>\n",
       "      <th>3</th>\n",
       "      <td>20.0</td>\n",
       "      <td>33.435229</td>\n",
       "    </tr>\n",
       "    <tr>\n",
       "      <th>4</th>\n",
       "      <td>50.0</td>\n",
       "      <td>33.697317</td>\n",
       "    </tr>\n",
       "    <tr>\n",
       "      <th>5</th>\n",
       "      <td>100.0</td>\n",
       "      <td>33.711938</td>\n",
       "    </tr>\n",
       "  </tbody>\n",
       "</table>\n",
       "</div>"
      ],
      "text/plain": [
       "   return period  24 hour rain [mm]\n",
       "0            2.0          18.262477\n",
       "1            5.0          28.504709\n",
       "2           10.0          32.234989\n",
       "3           20.0          33.435229\n",
       "4           50.0          33.697317\n",
       "5          100.0          33.711938"
      ]
     },
     "metadata": {},
     "output_type": "display_data"
    }
   ],
   "source": [
    "b=[1,0.4,20]\n",
    "b=minimize(func_mse_anonym,b).x\n",
    "b=np.round(b,3)\n",
    "\n",
    "\n",
    "str0='lognormal, coef='+str(b[0])+', mu='+str(b[1])+', sigma='+str(b[2])\n",
    "\n",
    "rain24predict=func_cdf_lognormal_anonym(b)\n",
    "plt.plot(recurence_interval,rain24sort,'b',label='observation')\n",
    "plt.plot(recurence_interval,rain24predict,'k--',label=str0)\n",
    "plt.xlabel('year')\n",
    "plt.ylabel('24 hour rain')\n",
    "plt.legend()\n",
    "plt.show()\n",
    "\n",
    "xx=[2,5,10,20,50,100]\n",
    "oo=np.ones(len(xx))\n",
    "yy=func_cdf_lognormal(xx,b)\n",
    "\n",
    "\n",
    "result=pd.DataFrame(np.c_[xx,yy],columns=['return period','24 hour rain [mm]'])\n",
    "display(result)"
   ]
  },
  {
   "cell_type": "code",
   "execution_count": 313,
   "id": "26532d0b",
   "metadata": {},
   "outputs": [
    {
     "data": {
      "text/markdown": [
       "Log normal CDF: $(\\mu=  1.0 ,\\sigma^2 = 33.7^2)$"
      ],
      "text/plain": [
       "<IPython.core.display.Markdown object>"
      ]
     },
     "metadata": {},
     "output_type": "display_data"
    },
    {
     "data": {
      "text/markdown": [
       "Coef: $a=0.588$[mm/day]"
      ],
      "text/plain": [
       "<IPython.core.display.Markdown object>"
      ]
     },
     "metadata": {},
     "output_type": "display_data"
    },
    {
     "data": {
      "text/latex": [
       "$\\displaystyle CDF=\\frac{1}{2}\\left[1+erf\\left(\\frac{\\ln{x}-\\mu}{\\sigma \\sqrt{2}}\\right)\\right]$"
      ],
      "text/plain": [
       "<IPython.core.display.Math object>"
      ]
     },
     "metadata": {},
     "output_type": "display_data"
    }
   ],
   "source": [
    "a=b[0]\n",
    "mu=b[1]\n",
    "sigma=b[2]\n",
    "\n",
    "display(Markdown(rf\"\"\"Log normal CDF: $(\\mu={mu:5.3} ,\\sigma^2 ={sigma:5.3}^2)$\"\"\"))\n",
    "display(Markdown(rf\"\"\"Coef: $a={a}$[mm/day]\"\"\"))\n",
    "display(Math(r'CDF=\\frac{1}{2}\\left[1+erf\\left(\\frac{\\ln{x}-\\mu}{\\sigma \\sqrt{2}}\\right)\\right]'))\n"
   ]
  },
  {
   "cell_type": "code",
   "execution_count": null,
   "id": "dbc515f5",
   "metadata": {},
   "outputs": [],
   "source": []
  },
  {
   "cell_type": "code",
   "execution_count": null,
   "id": "9591783d",
   "metadata": {},
   "outputs": [],
   "source": []
  },
  {
   "cell_type": "code",
   "execution_count": null,
   "id": "ba3c72df",
   "metadata": {},
   "outputs": [],
   "source": []
  },
  {
   "cell_type": "code",
   "execution_count": null,
   "id": "5b4e6d8e",
   "metadata": {},
   "outputs": [],
   "source": []
  },
  {
   "cell_type": "markdown",
   "id": "10552bf6",
   "metadata": {},
   "source": [
    "# Nearby stations"
   ]
  },
  {
   "cell_type": "code",
   "execution_count": 318,
   "id": "4fa8c737",
   "metadata": {},
   "outputs": [
    {
     "data": {
      "text/latex": [
       "$\\displaystyle \\text{Intensity[mm/h]}=\\frac{a}{\\left(t \\text{[min]}+b\\right)^c}$"
      ],
      "text/plain": [
       "<IPython.core.display.Math object>"
      ]
     },
     "metadata": {},
     "output_type": "display_data"
    },
    {
     "data": {
      "text/plain": [
       "'esf baharestan'"
      ]
     },
     "metadata": {},
     "output_type": "display_data"
    },
    {
     "data": {
      "text/html": [
       "<div>\n",
       "<style scoped>\n",
       "    .dataframe tbody tr th:only-of-type {\n",
       "        vertical-align: middle;\n",
       "    }\n",
       "\n",
       "    .dataframe tbody tr th {\n",
       "        vertical-align: top;\n",
       "    }\n",
       "\n",
       "    .dataframe thead th {\n",
       "        text-align: right;\n",
       "    }\n",
       "</style>\n",
       "<table border=\"1\" class=\"dataframe\">\n",
       "  <thead>\n",
       "    <tr style=\"text-align: right;\">\n",
       "      <th></th>\n",
       "      <th>return period (year)</th>\n",
       "      <th>a</th>\n",
       "      <th>b</th>\n",
       "      <th>c</th>\n",
       "    </tr>\n",
       "  </thead>\n",
       "  <tbody>\n",
       "    <tr>\n",
       "      <th>0</th>\n",
       "      <td>2.0</td>\n",
       "      <td>70.811</td>\n",
       "      <td>4.854</td>\n",
       "      <td>0.599</td>\n",
       "    </tr>\n",
       "    <tr>\n",
       "      <th>1</th>\n",
       "      <td>5.0</td>\n",
       "      <td>88.811</td>\n",
       "      <td>0.000</td>\n",
       "      <td>0.582</td>\n",
       "    </tr>\n",
       "    <tr>\n",
       "      <th>2</th>\n",
       "      <td>10.0</td>\n",
       "      <td>102.504</td>\n",
       "      <td>0.000</td>\n",
       "      <td>0.580</td>\n",
       "    </tr>\n",
       "    <tr>\n",
       "      <th>3</th>\n",
       "      <td>20.0</td>\n",
       "      <td>119.804</td>\n",
       "      <td>0.000</td>\n",
       "      <td>0.586</td>\n",
       "    </tr>\n",
       "    <tr>\n",
       "      <th>4</th>\n",
       "      <td>50.0</td>\n",
       "      <td>141.355</td>\n",
       "      <td>0.000</td>\n",
       "      <td>0.591</td>\n",
       "    </tr>\n",
       "    <tr>\n",
       "      <th>5</th>\n",
       "      <td>100.0</td>\n",
       "      <td>156.888</td>\n",
       "      <td>0.000</td>\n",
       "      <td>0.595</td>\n",
       "    </tr>\n",
       "  </tbody>\n",
       "</table>\n",
       "</div>"
      ],
      "text/plain": [
       "   return period (year)        a      b      c\n",
       "0                   2.0   70.811  4.854  0.599\n",
       "1                   5.0   88.811  0.000  0.582\n",
       "2                  10.0  102.504  0.000  0.580\n",
       "3                  20.0  119.804  0.000  0.586\n",
       "4                  50.0  141.355  0.000  0.591\n",
       "5                 100.0  156.888  0.000  0.595"
      ]
     },
     "metadata": {},
     "output_type": "display_data"
    },
    {
     "data": {
      "text/plain": [
       "'esf airport'"
      ]
     },
     "metadata": {},
     "output_type": "display_data"
    },
    {
     "data": {
      "text/html": [
       "<div>\n",
       "<style scoped>\n",
       "    .dataframe tbody tr th:only-of-type {\n",
       "        vertical-align: middle;\n",
       "    }\n",
       "\n",
       "    .dataframe tbody tr th {\n",
       "        vertical-align: top;\n",
       "    }\n",
       "\n",
       "    .dataframe thead th {\n",
       "        text-align: right;\n",
       "    }\n",
       "</style>\n",
       "<table border=\"1\" class=\"dataframe\">\n",
       "  <thead>\n",
       "    <tr style=\"text-align: right;\">\n",
       "      <th></th>\n",
       "      <th>return period (year)</th>\n",
       "      <th>a</th>\n",
       "      <th>b</th>\n",
       "      <th>c</th>\n",
       "    </tr>\n",
       "  </thead>\n",
       "  <tbody>\n",
       "    <tr>\n",
       "      <th>0</th>\n",
       "      <td>2.0</td>\n",
       "      <td>87.727</td>\n",
       "      <td>0.013</td>\n",
       "      <td>0.649</td>\n",
       "    </tr>\n",
       "    <tr>\n",
       "      <th>1</th>\n",
       "      <td>5.0</td>\n",
       "      <td>150.351</td>\n",
       "      <td>0.013</td>\n",
       "      <td>0.703</td>\n",
       "    </tr>\n",
       "    <tr>\n",
       "      <th>2</th>\n",
       "      <td>10.0</td>\n",
       "      <td>193.358</td>\n",
       "      <td>0.013</td>\n",
       "      <td>0.727</td>\n",
       "    </tr>\n",
       "    <tr>\n",
       "      <th>3</th>\n",
       "      <td>20.0</td>\n",
       "      <td>237.249</td>\n",
       "      <td>0.140</td>\n",
       "      <td>0.747</td>\n",
       "    </tr>\n",
       "    <tr>\n",
       "      <th>4</th>\n",
       "      <td>50.0</td>\n",
       "      <td>348.407</td>\n",
       "      <td>2.766</td>\n",
       "      <td>0.786</td>\n",
       "    </tr>\n",
       "    <tr>\n",
       "      <th>5</th>\n",
       "      <td>100.0</td>\n",
       "      <td>337.274</td>\n",
       "      <td>0.361</td>\n",
       "      <td>0.780</td>\n",
       "    </tr>\n",
       "  </tbody>\n",
       "</table>\n",
       "</div>"
      ],
      "text/plain": [
       "   return period (year)        a      b      c\n",
       "0                   2.0   87.727  0.013  0.649\n",
       "1                   5.0  150.351  0.013  0.703\n",
       "2                  10.0  193.358  0.013  0.727\n",
       "3                  20.0  237.249  0.140  0.747\n",
       "4                  50.0  348.407  2.766  0.786\n",
       "5                 100.0  337.274  0.361  0.780"
      ]
     },
     "metadata": {},
     "output_type": "display_data"
    },
    {
     "data": {
      "text/plain": [
       "'yazd'"
      ]
     },
     "metadata": {},
     "output_type": "display_data"
    },
    {
     "data": {
      "text/html": [
       "<div>\n",
       "<style scoped>\n",
       "    .dataframe tbody tr th:only-of-type {\n",
       "        vertical-align: middle;\n",
       "    }\n",
       "\n",
       "    .dataframe tbody tr th {\n",
       "        vertical-align: top;\n",
       "    }\n",
       "\n",
       "    .dataframe thead th {\n",
       "        text-align: right;\n",
       "    }\n",
       "</style>\n",
       "<table border=\"1\" class=\"dataframe\">\n",
       "  <thead>\n",
       "    <tr style=\"text-align: right;\">\n",
       "      <th></th>\n",
       "      <th>return period (year)</th>\n",
       "      <th>a</th>\n",
       "      <th>b</th>\n",
       "      <th>c</th>\n",
       "    </tr>\n",
       "  </thead>\n",
       "  <tbody>\n",
       "    <tr>\n",
       "      <th>0</th>\n",
       "      <td>2.0</td>\n",
       "      <td>83.949</td>\n",
       "      <td>53.451</td>\n",
       "      <td>0.700</td>\n",
       "    </tr>\n",
       "    <tr>\n",
       "      <th>1</th>\n",
       "      <td>5.0</td>\n",
       "      <td>1262.000</td>\n",
       "      <td>93.042</td>\n",
       "      <td>1.017</td>\n",
       "    </tr>\n",
       "    <tr>\n",
       "      <th>2</th>\n",
       "      <td>10.0</td>\n",
       "      <td>3375.440</td>\n",
       "      <td>103.432</td>\n",
       "      <td>1.123</td>\n",
       "    </tr>\n",
       "    <tr>\n",
       "      <th>3</th>\n",
       "      <td>20.0</td>\n",
       "      <td>6425.840</td>\n",
       "      <td>108.900</td>\n",
       "      <td>1.188</td>\n",
       "    </tr>\n",
       "    <tr>\n",
       "      <th>4</th>\n",
       "      <td>50.0</td>\n",
       "      <td>12464.000</td>\n",
       "      <td>115.137</td>\n",
       "      <td>1.254</td>\n",
       "    </tr>\n",
       "    <tr>\n",
       "      <th>5</th>\n",
       "      <td>100.0</td>\n",
       "      <td>16087.000</td>\n",
       "      <td>114.498</td>\n",
       "      <td>1.272</td>\n",
       "    </tr>\n",
       "  </tbody>\n",
       "</table>\n",
       "</div>"
      ],
      "text/plain": [
       "   return period (year)          a        b      c\n",
       "0                   2.0     83.949   53.451  0.700\n",
       "1                   5.0   1262.000   93.042  1.017\n",
       "2                  10.0   3375.440  103.432  1.123\n",
       "3                  20.0   6425.840  108.900  1.188\n",
       "4                  50.0  12464.000  115.137  1.254\n",
       "5                 100.0  16087.000  114.498  1.272"
      ]
     },
     "metadata": {},
     "output_type": "display_data"
    },
    {
     "name": "stdout",
     "output_type": "stream",
     "text": [
      "d1440 [21.75591806 30.93933903 36.23279271 40.53985022 46.12434202 49.72505654]\n",
      "i15 [11.82196761 18.36460736 21.31119892 24.50653107 28.52602384 31.3195438 ]\n",
      "i15 new [ 9.92366332 16.9194885  18.95979316 20.21175387 20.84041604 21.23361092]\n",
      "d1440 [18.7743417  21.72631013 23.46610475 24.89357734 27.48970865 27.83469386]\n",
      "i15 [15.12188324 22.38977242 26.98176056 31.16379665 36.30023203 40.04752321]\n",
      "i15 new [14.70959901 29.37516526 37.06438519 41.85692792 44.49739549 48.50348298]\n",
      "d1440 [12.08629205 17.44062823 21.27502953 25.02611144 29.74341218 33.64988701]\n",
      "i15 [ 4.35762315 10.78687548 15.84253351 20.9585482  27.80986295 33.08845187]\n",
      "i15 new [ 6.58440075 17.62991241 24.0039097  28.00090844 31.50673402 33.14946709]\n",
      "\n",
      "\n",
      "\n",
      "[18.26247654 28.50470913 32.23498865 33.43522884 33.69731733 33.71193751]\n"
     ]
    }
   ],
   "source": [
    "#baharestan\n",
    "esf_bahar_y=np.array([2,5,10,20,50,100])\n",
    "esf_bahar_a=np.array([70.811,88.811,102.504,119.804,141.355,156.888])\n",
    "esf_bahar_b=np.array([4.854,0,0,0,0,0])\n",
    "esf_bahar_c=np.array([0.599,0.582,0.580,0.586,0.591,0.595])\n",
    "\n",
    "#airport\n",
    "esf_air_y=np.array([2,5,10,20,50,100])\n",
    "esf_air_a=np.array([87.727,150.351,193.358,237.249,348.407,337.274])\n",
    "esf_air_b=np.array([0.013,0.013,0.013,0.14,2.766,0.361])\n",
    "esf_air_c=np.array([0.649,0.703,0.727,0.747,0.786,0.780])\n",
    "\n",
    "#yazd\n",
    "esf_yazd_y=np.array([2,5,10,20,50,100])\n",
    "esf_yazd_a=np.array([83.949,1262.00,3375.44,6425.84,12464.0,16087.0])\n",
    "esf_yazd_b=np.array([53.451,93.042,103.432,108.900,115.137,114.498])\n",
    "esf_yazd_c=np.array([0.700,1.017,1.123,1.188,1.254,1.272])\n",
    "\n",
    "display(Math(r'\\text{Intensity[mm/h]}=\\frac{a}{\\left(t \\text{[min]}+b\\right)^c}'))\n",
    "\n",
    "df1=pd.DataFrame(np.c_[esf_bahar_y,esf_bahar_a,esf_bahar_b,esf_bahar_c],columns=['return period (year)','a','b','c'])\n",
    "df2=pd.DataFrame(np.c_[esf_air_y,esf_air_a,esf_air_b,esf_air_c],columns=['return period (year)','a','b','c'])\n",
    "df3=pd.DataFrame(np.c_[esf_yazd_y,esf_yazd_a,esf_yazd_b,esf_yazd_c],columns=['return period (year)','a','b','c'])\n",
    "\n",
    "display('esf baharestan',df1,'esf airport',df2,'yazd',df3)\n",
    "\n",
    "\n",
    "def func_15_1440(y,a,b,c,yy):\n",
    "    i_1440=a/np.power(24*60+b,c)\n",
    "    d_1440=i_1440*24\n",
    "    i_15=a/np.power(15+b,c)\n",
    "    d_15=i_15*(15/60)\n",
    "    print('d1440',d_1440)\n",
    "    #print('d15',d_15)\n",
    "    print('i15',i_15)\n",
    "    #print('d15/d14040', d_15/d_1440)\n",
    "    print('i15 new',d_15/d_1440*yy*4)\n",
    "\n",
    "func_15_1440(esf_bahar_y,esf_bahar_a,esf_bahar_b,esf_bahar_c,yy)\n",
    "func_15_1440(esf_air_y,esf_air_a,esf_air_b,esf_air_c,yy)\n",
    "func_15_1440(esf_yazd_y,esf_yazd_a,esf_yazd_b,esf_yazd_c,yy)\n",
    "\n",
    "print('\\n\\n')\n",
    "print(yy)\n"
   ]
  },
  {
   "cell_type": "code",
   "execution_count": null,
   "id": "c8703f8f",
   "metadata": {},
   "outputs": [],
   "source": []
  },
  {
   "cell_type": "code",
   "execution_count": null,
   "id": "e0e5a3c3",
   "metadata": {},
   "outputs": [],
   "source": []
  },
  {
   "cell_type": "code",
   "execution_count": null,
   "id": "6d3d4a45",
   "metadata": {},
   "outputs": [],
   "source": []
  },
  {
   "cell_type": "code",
   "execution_count": null,
   "id": "f2795f06",
   "metadata": {},
   "outputs": [],
   "source": []
  }
 ],
 "metadata": {
  "kernelspec": {
   "display_name": "Python 3 (ipykernel)",
   "language": "python",
   "name": "python3"
  },
  "language_info": {
   "codemirror_mode": {
    "name": "ipython",
    "version": 3
   },
   "file_extension": ".py",
   "mimetype": "text/x-python",
   "name": "python",
   "nbconvert_exporter": "python",
   "pygments_lexer": "ipython3",
   "version": "3.10.2"
  }
 },
 "nbformat": 4,
 "nbformat_minor": 5
}
