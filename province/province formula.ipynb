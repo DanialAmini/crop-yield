{
 "cells": [
  {
   "cell_type": "code",
   "execution_count": 37,
   "id": "3184e399",
   "metadata": {},
   "outputs": [],
   "source": [
    "%reset -f\n",
    "import sympy\n",
    "from sympy import symbols,Rational,Integer"
   ]
  },
  {
   "cell_type": "code",
   "execution_count": 38,
   "id": "a77f6769",
   "metadata": {},
   "outputs": [],
   "source": []
  },
  {
   "cell_type": "code",
   "execution_count": 68,
   "id": "5171268f",
   "metadata": {},
   "outputs": [
    {
     "name": "stdout",
     "output_type": "stream",
     "text": [
      "0.00766666666666667*x_ecwat + 0.0158333333333333*x_elev + 0.352333333333333*x_eto - 0.0931666666666666*x_gd + 0.0941666666666666*x_ie + 0.0715*x_soil + 1.01233333333333*x_wat + 0.00133333333333333\n"
     ]
    },
    {
     "data": {
      "text/latex": [
       "$\\displaystyle \\frac{y}{60}$"
      ],
      "text/plain": [
       "y/60"
      ]
     },
     "metadata": {},
     "output_type": "display_data"
    },
    {
     "data": {
      "text/latex": [
       "$\\displaystyle 0.00766 x_{ecwat} + 0.0158 x_{elev} + 0.352 x_{eto} - 0.0931 x_{gd} + 0.094 x_{ie} + 0.071 x_{soil} + 1.012 x_{wat} + 0.00133$"
      ],
      "text/plain": [
       "0.00766*x_ecwat + 0.0158*x_elev + 0.352*x_eto - 0.0931*x_gd + 0.094*x_ie + 0.071*x_soil + 1.012*x_wat + 0.00133"
      ]
     },
     "metadata": {},
     "output_type": "display_data"
    },
    {
     "data": {
      "text/latex": [
       "$\\displaystyle x_{ecwat} + \\frac{x_{elev}}{2000} + \\frac{x_{eto}}{800} + \\frac{x_{gd}}{100} + \\frac{x_{ie}}{20} + x_{soil} + \\frac{x_{wat}}{10000}$"
      ],
      "text/plain": [
       "x_ecwat + x_elev/2000 + x_eto/800 + x_gd/100 + x_ie/20 + x_soil + x_wat/10000"
      ]
     },
     "metadata": {},
     "output_type": "display_data"
    }
   ],
   "source": [
    "#silage corn\n",
    "\n",
    "y1,y2,y3,y4,y5,y6,y=symbols('y1 y2 y3 y4 y5 y6 y')\n",
    "x_ie,x_wat,x_eto,x_elev,x_gd,x_ecwat,x_soil=symbols('x_ie x_wat x_eto x_elev x_gd x_ecwat x_soil')\n",
    "\n",
    "y1=Integer(50)*(-0.24+0.12*x_ie+1.603*x_wat/10000)\n",
    "y2=Integer(50)*(-0.054+0.236*x_ie/20+1.277*x_eto/800)\n",
    "y3=Integer(50)*(-0.235+0.095*x_elev/2000+1.628*x_wat/10000)\n",
    "y4=Integer(50)*(-0.129+-0.186*x_gd/100+1.789*x_wat/10000)\n",
    "y5=Integer(50)*(-0.386+0.837*x_eto/800+1.054*x_wat/10000)\n",
    "y6=Integer(50)*(1.052+0.046*x_ecwat/1+0.429*x_soil/1-0.373*x_gd/100+0.209*x_ie/20)\n",
    "\n",
    "\n",
    "y1=(-0.24+0.12*x_ie+1.603*x_wat)\n",
    "y2=(-0.054+0.236*x_ie+1.277*x_eto)\n",
    "y3=(-0.235+0.095*x_elev+1.628*x_wat)\n",
    "y4=(-0.129+-0.186*x_gd+1.789*x_wat)\n",
    "y5=(-0.386+0.837*x_eto+1.054*x_wat)\n",
    "y6=(1.052+0.046*x_ecwat+0.429*x_soil-0.373*x_gd+0.209*x_ie)\n",
    "\n",
    "print((y1+y2+y3+y4+y5+y6)/6)\n",
    "display(y*Rational(1,60))\n",
    "display(0.00766*x_ecwat + 0.0158*x_elev + 0.352*x_eto - 0.0931*x_gd + 0.094*x_ie + 0.071*x_soil + 1.012*x_wat + 0.00133)\n",
    "display(x_ecwat/1+x_elev/2000+x_eto/800+x_gd/100+x_ie/20+x_soil/1+x_wat/10000)"
   ]
  },
  {
   "cell_type": "code",
   "execution_count": null,
   "id": "807c2761",
   "metadata": {},
   "outputs": [],
   "source": []
  },
  {
   "cell_type": "code",
   "execution_count": null,
   "id": "1bd543c1",
   "metadata": {},
   "outputs": [],
   "source": []
  },
  {
   "cell_type": "code",
   "execution_count": null,
   "id": "125fd961",
   "metadata": {},
   "outputs": [],
   "source": []
  },
  {
   "cell_type": "code",
   "execution_count": null,
   "id": "864d2efc",
   "metadata": {},
   "outputs": [],
   "source": []
  }
 ],
 "metadata": {
  "kernelspec": {
   "display_name": "Python 3 (ipykernel)",
   "language": "python",
   "name": "python3"
  },
  "language_info": {
   "codemirror_mode": {
    "name": "ipython",
    "version": 3
   },
   "file_extension": ".py",
   "mimetype": "text/x-python",
   "name": "python",
   "nbconvert_exporter": "python",
   "pygments_lexer": "ipython3",
   "version": "3.7.9"
  }
 },
 "nbformat": 4,
 "nbformat_minor": 5
}
