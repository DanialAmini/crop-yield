{
 "cells": [
  {
   "cell_type": "code",
   "execution_count": 10,
   "id": "8523f379",
   "metadata": {},
   "outputs": [],
   "source": [
    "#you must have R installed on your computer. \n",
    "#also install irkernel package in the R software\n",
    "\n",
    "\n",
    "#install.packages('IRkernel')\n",
    "#IRkernel::installspec()  # to register the kernel in the current R installation\n",
    "#install.packages('neuralnet', repos='http://cran.us.r-project.org')\n",
    "\n",
    "library('neuralnet')"
   ]
  },
  {
   "cell_type": "code",
   "execution_count": 11,
   "id": "43d2e1db",
   "metadata": {},
   "outputs": [],
   "source": [
    "x1=c( 0.275, 0.351, 0.457, 0.372, 0.788, 0.319, 0.009, 0.265, \n",
    "     0.918, 0.247, 0.61, 0.342, 0.137, 0.596, 0.74, 0.844, 0.828, \n",
    "     0.99, 0.59, 0.314, 0.167, 0.643, 0.487, 0.821, 0.456, 0.477, 0.515)\n",
    "x2=c( 0.865, 0.504, 0.89, 0.399, 0.124, 0.302, 0.238, 0.327, 0.464, \n",
    "     0.915, 0.973, 0.476, 0.549, 0.795, 0.56, 0.232, 0.494, 0.25, \n",
    "     0.18, 0.247, 0.939, 0.131, 0.644, 0.417, 0.962, 0.697, 0.94)\n",
    "\n",
    "y=abs(x1-0.70)+pmax(0.30,x2)\n",
    "\n",
    "\n"
   ]
  },
  {
   "cell_type": "code",
   "execution_count": null,
   "id": "9028f1d2",
   "metadata": {},
   "outputs": [],
   "source": []
  },
  {
   "cell_type": "code",
   "execution_count": 15,
   "id": "1319998a",
   "metadata": {},
   "outputs": [
    {
     "name": "stdout",
     "output_type": "stream",
     "text": [
      "[1] \"linear regression\"\n",
      "\n",
      "Call:\n",
      "lm(formula = y ~ x1 + x2)\n",
      "\n",
      "Coefficients:\n",
      "(Intercept)           x1           x2  \n",
      "     0.6822      -0.5431       0.7961  \n",
      "\n",
      "[1] \"summary\"\n",
      "\n",
      "Call:\n",
      "lm(formula = y ~ x1 + x2)\n",
      "\n",
      "Residuals:\n",
      "     Min       1Q   Median       3Q      Max \n",
      "-0.12618 -0.06449 -0.02587  0.05126  0.24636 \n",
      "\n",
      "Coefficients:\n",
      "            Estimate Std. Error t value Pr(>|t|)    \n",
      "(Intercept)  0.68224    0.05850  11.661 2.26e-11 ***\n",
      "x1          -0.54305    0.07168  -7.576 8.16e-08 ***\n",
      "x2           0.79607    0.06446  12.349 6.89e-12 ***\n",
      "---\n",
      "Signif. codes:  0 '***' 0.001 '**' 0.01 '*' 0.05 '.' 0.1 ' ' 1\n",
      "\n",
      "Residual standard error: 0.09115 on 24 degrees of freedom\n",
      "Multiple R-squared:  0.9192,\tAdjusted R-squared:  0.9125 \n",
      "F-statistic: 136.6 on 2 and 24 DF,  p-value: 7.713e-14\n",
      "\n",
      "        1         2         3         4         5         6         7         8 \n",
      "1.2215017 0.8928502 1.1425681 0.7978592 0.3530321 0.7494225 0.8668201 0.7986489 \n",
      "        9        10        11        12        13        14        15        16 \n",
      "0.5530978 1.2765104 1.1255548 0.8754478 1.0448860 0.9914578 0.7261831 0.4085963 \n",
      "       17        18        19        20        21        22        23        24 \n",
      "0.6258543 0.3436401 0.5051358 0.7083542 1.3390600 0.4373469 0.9304445 0.5683586 \n",
      "       25        26        27 \n",
      "1.2004279 0.9780664 1.1508745 \n"
     ]
    },
    {
     "data": {
      "image/png": "[encoded data removed]",
      "text/plain": [
       "plot without title"
      ]
     },
     "metadata": {
      "image/png": {
       "height": 420,
       "width": 420
      }
     },
     "output_type": "display_data"
    }
   ],
   "source": [
    "lr1 <- lm(y~x1+x2)\n",
    "print('linear regression')\n",
    "print(lr1)\n",
    "print('summary')\n",
    "print(summary(lr1))\n",
    "\n",
    "df_x=data.frame(x1,x2)\n",
    "\n",
    "yhat1=predict(lr1, df_x)\n",
    "\n",
    "print(yhat1)\n",
    "\n",
    "plot(y,yhat1)"
   ]
  },
  {
   "cell_type": "code",
   "execution_count": 63,
   "id": "9bc8b2c8",
   "metadata": {},
   "outputs": [
    {
     "data": {
      "image/png": "[encoded data removed]",
      "text/plain": [
       "plot without title"
      ]
     },
     "metadata": {
      "image/png": {
       "height": 420,
       "width": 420
      }
     },
     "output_type": "display_data"
    }
   ],
   "source": [
    "df=data.frame(x1,x2,y)\n",
    "nn1 <- neuralnet(y~x1+x2,df,hidden=5,act.fct='tanh',linear.output=FALSE)\n",
    "nn1 <- neuralnet(y~x1+x2,df,hidden=c(4,2),act.fct='tanh')\n",
    "nn1 <- neuralnet(y~x1+x2,df,hidden=4)\n",
    "\n",
    "#print('neural net')\n",
    "#print(nn1)\n",
    "#print('summary')\n",
    "#print(summary(nn1))\n",
    "\n",
    "df_x=data.frame(x1,x2)\n",
    "\n",
    "yhat2=predict(nn1, df_x)\n",
    "\n",
    "#print(yhat2)\n",
    "\n",
    "plot(y,yhat2)"
   ]
  },
  {
   "cell_type": "code",
   "execution_count": null,
   "id": "265eae64",
   "metadata": {},
   "outputs": [],
   "source": []
  },
  {
   "cell_type": "code",
   "execution_count": null,
   "id": "a18a6f8c",
   "metadata": {},
   "outputs": [],
   "source": []
  },
  {
   "cell_type": "code",
   "execution_count": null,
   "id": "710f775f",
   "metadata": {},
   "outputs": [],
   "source": []
  },
  {
   "cell_type": "code",
   "execution_count": null,
   "id": "f968e0a7",
   "metadata": {},
   "outputs": [],
   "source": []
  },
  {
   "cell_type": "code",
   "execution_count": 8,
   "id": "30275bdd",
   "metadata": {},
   "outputs": [],
   "source": []
  },
  {
   "cell_type": "code",
   "execution_count": null,
   "id": "c49f5965",
   "metadata": {},
   "outputs": [],
   "source": []
  },
  {
   "cell_type": "code",
   "execution_count": null,
   "id": "0337ad91",
   "metadata": {},
   "outputs": [],
   "source": []
  },
  {
   "cell_type": "code",
   "execution_count": null,
   "id": "dd187aa0",
   "metadata": {},
   "outputs": [],
   "source": []
  }
 ],
 "metadata": {
  "kernelspec": {
   "display_name": "R",
   "language": "R",
   "name": "ir"
  },
  "language_info": {
   "codemirror_mode": "r",
   "file_extension": ".r",
   "mimetype": "text/x-r-source",
   "name": "R",
   "pygments_lexer": "r",
   "version": "4.2.0"
  }
 },
 "nbformat": 4,
 "nbformat_minor": 5
}
